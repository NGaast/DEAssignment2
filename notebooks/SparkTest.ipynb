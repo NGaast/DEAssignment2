{
 "cells": [
  {
   "cell_type": "code",
   "execution_count": 1,
   "id": "748aa54f-1d8c-4475-93d3-8521bad6b732",
   "metadata": {},
   "outputs": [
    {
     "data": {
      "text/plain": [
       "b'Requirement already satisfied: google-cloud-storage in /opt/conda/lib/python3.10/site-packages (2.7.0)\\nRequirement already satisfied: requests<3.0.0dev,>=2.18.0 in /opt/conda/lib/python3.10/site-packages (from google-cloud-storage) (2.28.1)\\nRequirement already satisfied: google-api-core!=2.0.*,!=2.1.*,!=2.2.*,!=2.3.0,<3.0.0dev,>=1.31.5 in /opt/conda/lib/python3.10/site-packages (from google-cloud-storage) (2.11.0)\\nRequirement already satisfied: google-auth<3.0dev,>=1.25.0 in /opt/conda/lib/python3.10/site-packages (from google-cloud-storage) (2.15.0)\\nRequirement already satisfied: google-resumable-media>=2.3.2 in /opt/conda/lib/python3.10/site-packages (from google-cloud-storage) (2.4.0)\\nRequirement already satisfied: google-cloud-core<3.0dev,>=2.3.0 in /opt/conda/lib/python3.10/site-packages (from google-cloud-storage) (2.3.2)\\nRequirement already satisfied: protobuf!=3.20.0,!=3.20.1,!=4.21.0,!=4.21.1,!=4.21.2,!=4.21.3,!=4.21.4,!=4.21.5,<5.0.0dev,>=3.19.5 in /opt/conda/lib/python3.10/site-packages (from google-api-core!=2.0.*,!=2.1.*,!=2.2.*,!=2.3.0,<3.0.0dev,>=1.31.5->google-cloud-storage) (4.21.8)\\nRequirement already satisfied: googleapis-common-protos<2.0dev,>=1.56.2 in /opt/conda/lib/python3.10/site-packages (from google-api-core!=2.0.*,!=2.1.*,!=2.2.*,!=2.3.0,<3.0.0dev,>=1.31.5->google-cloud-storage) (1.57.0)\\nRequirement already satisfied: pyasn1-modules>=0.2.1 in /opt/conda/lib/python3.10/site-packages (from google-auth<3.0dev,>=1.25.0->google-cloud-storage) (0.2.8)\\nRequirement already satisfied: rsa<5,>=3.1.4 in /opt/conda/lib/python3.10/site-packages (from google-auth<3.0dev,>=1.25.0->google-cloud-storage) (4.9)\\nRequirement already satisfied: six>=1.9.0 in /opt/conda/lib/python3.10/site-packages (from google-auth<3.0dev,>=1.25.0->google-cloud-storage) (1.16.0)\\nRequirement already satisfied: cachetools<6.0,>=2.0.0 in /opt/conda/lib/python3.10/site-packages (from google-auth<3.0dev,>=1.25.0->google-cloud-storage) (5.2.0)\\nRequirement already satisfied: google-crc32c<2.0dev,>=1.0 in /opt/conda/lib/python3.10/site-packages (from google-resumable-media>=2.3.2->google-cloud-storage) (1.5.0)\\nRequirement already satisfied: idna<4,>=2.5 in /opt/conda/lib/python3.10/site-packages (from requests<3.0.0dev,>=2.18.0->google-cloud-storage) (3.4)\\nRequirement already satisfied: certifi>=2017.4.17 in /opt/conda/lib/python3.10/site-packages (from requests<3.0.0dev,>=2.18.0->google-cloud-storage) (2022.9.24)\\nRequirement already satisfied: urllib3<1.27,>=1.21.1 in /opt/conda/lib/python3.10/site-packages (from requests<3.0.0dev,>=2.18.0->google-cloud-storage) (1.26.11)\\nRequirement already satisfied: charset-normalizer<3,>=2 in /opt/conda/lib/python3.10/site-packages (from requests<3.0.0dev,>=2.18.0->google-cloud-storage) (2.1.1)\\nRequirement already satisfied: pyasn1<0.5.0,>=0.4.6 in /opt/conda/lib/python3.10/site-packages (from pyasn1-modules>=0.2.1->google-auth<3.0dev,>=1.25.0->google-cloud-storage) (0.4.8)\\n'"
      ]
     },
     "execution_count": 1,
     "metadata": {},
     "output_type": "execute_result"
    }
   ],
   "source": [
    "import subprocess\n",
    "\n",
    "subprocess.check_output([\"pip\", \"install\", \"google-cloud-storage\"])"
   ]
  },
  {
   "cell_type": "code",
   "execution_count": 2,
   "id": "29ce2dfc-0471-4df3-9d49-90d1f0dbb274",
   "metadata": {},
   "outputs": [],
   "source": [
    "from google.cloud import storage\n",
    "\n",
    "client = storage.Client(project='de-2022-ng')\n",
    "bucket = client.get_bucket('data_de2022_ng')\n",
    "\n",
    "file_name = 'fixtures.json'\n",
    "path = '/home/jovyan/data/'\n",
    "\n",
    "output_path = '{0}/{1}'.format(path, file_name)\n",
    "blob = bucket.blob(file_name)\n",
    "blob.download_to_filename(output_path)"
   ]
  },
  {
   "cell_type": "code",
   "execution_count": 37,
   "id": "eb4fdded-26d2-4fef-b2a8-98a3244303aa",
   "metadata": {},
   "outputs": [
    {
     "data": {
      "text/plain": [
       "'/home/jovyan/notebooks/tmp/fixtures.json'"
      ]
     },
     "execution_count": 37,
     "metadata": {},
     "output_type": "execute_result"
    }
   ],
   "source": [
    "import os\n",
    "\n",
    "os.path.abspath(\"tmp/fixtures.json\")"
   ]
  },
  {
   "cell_type": "code",
   "execution_count": 9,
   "id": "1d69d380-d9af-4e1b-aa3a-3db76d622d3d",
   "metadata": {},
   "outputs": [],
   "source": [
    "from pyspark import SparkConf\n",
    "from pyspark.sql import SparkSession\n",
    "from pyspark.sql.functions import explode, split, concat, col, lit\n",
    "from pyspark.sql.types import StructType, StructField, LongType, StringType, DoubleType\n",
    "from time import sleep\n",
    "\n",
    "spark = SparkSession.builder.appName(\"MyFirstSparkApp\")\\\n",
    "        .master(\"spark://spark-master:7077\").getOrCreate() \n",
    "\n",
    "df = spark.read.format(\"json\") \\\n",
    "                         .option(\"inferSchema\", \"true\") \\\n",
    "                         .option(\"multiLine\", \"true\") \\\n",
    "                         .load(\"/home/jovyan/data/fixtures.json\")\n",
    "\n"
   ]
  },
  {
   "cell_type": "code",
   "execution_count": 10,
   "id": "ebaeefd5-4913-4085-9d02-6aa1a800de0f",
   "metadata": {},
   "outputs": [
    {
     "name": "stdout",
     "output_type": "stream",
     "text": [
      "root\n",
      " |-- errors: array (nullable = true)\n",
      " |    |-- element: string (containsNull = true)\n",
      " |-- get: string (nullable = true)\n",
      " |-- paging: struct (nullable = true)\n",
      " |    |-- current: long (nullable = true)\n",
      " |    |-- total: long (nullable = true)\n",
      " |-- parameters: struct (nullable = true)\n",
      " |    |-- league: string (nullable = true)\n",
      " |    |-- season: string (nullable = true)\n",
      " |-- response: array (nullable = true)\n",
      " |    |-- element: struct (containsNull = true)\n",
      " |    |    |-- fixture: struct (nullable = true)\n",
      " |    |    |    |-- date: string (nullable = true)\n",
      " |    |    |    |-- id: long (nullable = true)\n",
      " |    |    |    |-- periods: struct (nullable = true)\n",
      " |    |    |    |    |-- first: long (nullable = true)\n",
      " |    |    |    |    |-- second: long (nullable = true)\n",
      " |    |    |    |-- referee: string (nullable = true)\n",
      " |    |    |    |-- status: struct (nullable = true)\n",
      " |    |    |    |    |-- elapsed: long (nullable = true)\n",
      " |    |    |    |    |-- long: string (nullable = true)\n",
      " |    |    |    |    |-- short: string (nullable = true)\n",
      " |    |    |    |-- timestamp: long (nullable = true)\n",
      " |    |    |    |-- timezone: string (nullable = true)\n",
      " |    |    |    |-- venue: struct (nullable = true)\n",
      " |    |    |    |    |-- city: string (nullable = true)\n",
      " |    |    |    |    |-- id: long (nullable = true)\n",
      " |    |    |    |    |-- name: string (nullable = true)\n",
      " |    |    |-- goals: struct (nullable = true)\n",
      " |    |    |    |-- away: long (nullable = true)\n",
      " |    |    |    |-- home: long (nullable = true)\n",
      " |    |    |-- league: struct (nullable = true)\n",
      " |    |    |    |-- country: string (nullable = true)\n",
      " |    |    |    |-- flag: string (nullable = true)\n",
      " |    |    |    |-- id: long (nullable = true)\n",
      " |    |    |    |-- logo: string (nullable = true)\n",
      " |    |    |    |-- name: string (nullable = true)\n",
      " |    |    |    |-- round: string (nullable = true)\n",
      " |    |    |    |-- season: long (nullable = true)\n",
      " |    |    |-- score: struct (nullable = true)\n",
      " |    |    |    |-- extratime: struct (nullable = true)\n",
      " |    |    |    |    |-- away: long (nullable = true)\n",
      " |    |    |    |    |-- home: long (nullable = true)\n",
      " |    |    |    |-- fulltime: struct (nullable = true)\n",
      " |    |    |    |    |-- away: long (nullable = true)\n",
      " |    |    |    |    |-- home: long (nullable = true)\n",
      " |    |    |    |-- halftime: struct (nullable = true)\n",
      " |    |    |    |    |-- away: long (nullable = true)\n",
      " |    |    |    |    |-- home: long (nullable = true)\n",
      " |    |    |    |-- penalty: struct (nullable = true)\n",
      " |    |    |    |    |-- away: long (nullable = true)\n",
      " |    |    |    |    |-- home: long (nullable = true)\n",
      " |    |    |-- teams: struct (nullable = true)\n",
      " |    |    |    |-- away: struct (nullable = true)\n",
      " |    |    |    |    |-- id: long (nullable = true)\n",
      " |    |    |    |    |-- logo: string (nullable = true)\n",
      " |    |    |    |    |-- name: string (nullable = true)\n",
      " |    |    |    |    |-- winner: boolean (nullable = true)\n",
      " |    |    |    |-- home: struct (nullable = true)\n",
      " |    |    |    |    |-- id: long (nullable = true)\n",
      " |    |    |    |    |-- logo: string (nullable = true)\n",
      " |    |    |    |    |-- name: string (nullable = true)\n",
      " |    |    |    |    |-- winner: boolean (nullable = true)\n",
      " |-- results: long (nullable = true)\n",
      "\n"
     ]
    }
   ],
   "source": [
    "df.printSchema()"
   ]
  },
  {
   "cell_type": "code",
   "execution_count": 12,
   "id": "fdcb71eb-8fd6-47ec-87f1-6f5707d6fe7e",
   "metadata": {},
   "outputs": [
    {
     "name": "stdout",
     "output_type": "stream",
     "text": [
      "root\n",
      " |-- response: array (nullable = true)\n",
      " |    |-- element: struct (containsNull = true)\n",
      " |    |    |-- fixture: struct (nullable = true)\n",
      " |    |    |    |-- date: string (nullable = true)\n",
      " |    |    |    |-- id: long (nullable = true)\n",
      " |    |    |    |-- periods: struct (nullable = true)\n",
      " |    |    |    |    |-- first: long (nullable = true)\n",
      " |    |    |    |    |-- second: long (nullable = true)\n",
      " |    |    |    |-- referee: string (nullable = true)\n",
      " |    |    |    |-- status: struct (nullable = true)\n",
      " |    |    |    |    |-- elapsed: long (nullable = true)\n",
      " |    |    |    |    |-- long: string (nullable = true)\n",
      " |    |    |    |    |-- short: string (nullable = true)\n",
      " |    |    |    |-- timestamp: long (nullable = true)\n",
      " |    |    |    |-- timezone: string (nullable = true)\n",
      " |    |    |    |-- venue: struct (nullable = true)\n",
      " |    |    |    |    |-- city: string (nullable = true)\n",
      " |    |    |    |    |-- id: long (nullable = true)\n",
      " |    |    |    |    |-- name: string (nullable = true)\n",
      " |    |    |-- goals: struct (nullable = true)\n",
      " |    |    |    |-- away: long (nullable = true)\n",
      " |    |    |    |-- home: long (nullable = true)\n",
      " |    |    |-- league: struct (nullable = true)\n",
      " |    |    |    |-- country: string (nullable = true)\n",
      " |    |    |    |-- flag: string (nullable = true)\n",
      " |    |    |    |-- id: long (nullable = true)\n",
      " |    |    |    |-- logo: string (nullable = true)\n",
      " |    |    |    |-- name: string (nullable = true)\n",
      " |    |    |    |-- round: string (nullable = true)\n",
      " |    |    |    |-- season: long (nullable = true)\n",
      " |    |    |-- score: struct (nullable = true)\n",
      " |    |    |    |-- extratime: struct (nullable = true)\n",
      " |    |    |    |    |-- away: long (nullable = true)\n",
      " |    |    |    |    |-- home: long (nullable = true)\n",
      " |    |    |    |-- fulltime: struct (nullable = true)\n",
      " |    |    |    |    |-- away: long (nullable = true)\n",
      " |    |    |    |    |-- home: long (nullable = true)\n",
      " |    |    |    |-- halftime: struct (nullable = true)\n",
      " |    |    |    |    |-- away: long (nullable = true)\n",
      " |    |    |    |    |-- home: long (nullable = true)\n",
      " |    |    |    |-- penalty: struct (nullable = true)\n",
      " |    |    |    |    |-- away: long (nullable = true)\n",
      " |    |    |    |    |-- home: long (nullable = true)\n",
      " |    |    |-- teams: struct (nullable = true)\n",
      " |    |    |    |-- away: struct (nullable = true)\n",
      " |    |    |    |    |-- id: long (nullable = true)\n",
      " |    |    |    |    |-- logo: string (nullable = true)\n",
      " |    |    |    |    |-- name: string (nullable = true)\n",
      " |    |    |    |    |-- winner: boolean (nullable = true)\n",
      " |    |    |    |-- home: struct (nullable = true)\n",
      " |    |    |    |    |-- id: long (nullable = true)\n",
      " |    |    |    |    |-- logo: string (nullable = true)\n",
      " |    |    |    |    |-- name: string (nullable = true)\n",
      " |    |    |    |    |-- winner: boolean (nullable = true)\n",
      "\n"
     ]
    }
   ],
   "source": [
    "df.select('response').printSchema()"
   ]
  }
 ],
 "metadata": {
  "kernelspec": {
   "display_name": "Python 3 (ipykernel)",
   "language": "python",
   "name": "python3"
  },
  "language_info": {
   "codemirror_mode": {
    "name": "ipython",
    "version": 3
   },
   "file_extension": ".py",
   "mimetype": "text/x-python",
   "name": "python",
   "nbconvert_exporter": "python",
   "pygments_lexer": "ipython3",
   "version": "3.10.6"
  }
 },
 "nbformat": 4,
 "nbformat_minor": 5
}
